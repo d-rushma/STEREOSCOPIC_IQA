{
  "cells": [
    {
      "cell_type": "code",
      "execution_count": null,
      "metadata": {
        "colab": {
          "base_uri": "https://localhost:8080/"
        },
        "id": "w9P9PSxgpGzT",
        "outputId": "7bde3c3f-f9aa-46e5-fe57-2c79c1b81e6f"
      },
      "outputs": [
        {
          "name": "stdout",
          "output_type": "stream",
          "text": [
            "Mounted at /content/drive\n"
          ]
        }
      ],
      "source": [
        "from google.colab import drive\n",
        "drive.mount('/content/drive')"
      ]
    },
    {
      "cell_type": "code",
      "execution_count": null,
      "metadata": {
        "id": "j9F5Fm7IoSPs"
      },
      "outputs": [],
      "source": [
        "import os\n",
        "import numpy as np\n",
        "import pandas as pd\n",
        "import tensorflow as tf\n",
        "import cv2\n",
        "from sklearn.model_selection import train_test_split\n",
        "from tensorflow.keras.preprocessing.image import load_img, img_to_array, ImageDataGenerator\n",
        "import matplotlib.pyplot as plt\n",
        "from scipy.stats import pearsonr, spearmanr, kendalltau\n",
        "from google.colab.patches import cv2_imshow\n",
        "from tensorflow.keras import layers, Model"
      ]
    },
    {
      "cell_type": "code",
      "execution_count": null,
      "metadata": {
        "id": "_G4MFfr9pCkG"
      },
      "outputs": [],
      "source": [
        "IMAGE_HEIGHT = 224\n",
        "IMAGE_WIDTH = 224\n",
        "CHANNELS = 3"
      ]
    },
    {
      "cell_type": "code",
      "execution_count": null,
      "metadata": {
        "id": "dRpdkyvcpaOc"
      },
      "outputs": [],
      "source": [
        "# Load SSIM scores\n",
        "ssim_scores = pd.read_csv('/content/drive/MyDrive/metrics_scores_phase2.csv')\n",
        "ssim_scores = ssim_scores[['Image', 'SSIM_Score']]"
      ]
    },
    {
      "cell_type": "code",
      "execution_count": null,
      "metadata": {
        "colab": {
          "base_uri": "https://localhost:8080/",
          "height": 423
        },
        "id": "PgMj09_2gz9L",
        "outputId": "95c6213b-b483-467d-ab5e-138f9aa5a2b3"
      },
      "outputs": [
        {
          "data": {
            "application/vnd.google.colaboratory.intrinsic+json": {
              "summary": "{\n  \"name\": \"ssim_scores\",\n  \"rows\": 360,\n  \"fields\": [\n    {\n      \"column\": \"Image\",\n      \"properties\": {\n        \"dtype\": \"string\",\n        \"num_unique_values\": 360,\n        \"samples\": [\n          \"003image_4_3.bmp\",\n          \"010image_1_6.bmp\",\n          \"021image_4_3.bmp\"\n        ],\n        \"semantic_type\": \"\",\n        \"description\": \"\"\n      }\n    },\n    {\n      \"column\": \"SSIM_Score\",\n      \"properties\": {\n        \"dtype\": \"number\",\n        \"std\": 0.16457958042602608,\n        \"min\": 0.2584309481976941,\n        \"max\": 0.9985529257085048,\n        \"num_unique_values\": 356,\n        \"samples\": [\n          0.5896619971176107,\n          0.7214452108131131,\n          0.6648798666781133\n        ],\n        \"semantic_type\": \"\",\n        \"description\": \"\"\n      }\n    }\n  ]\n}",
              "type": "dataframe",
              "variable_name": "ssim_scores"
            },
            "text/html": [
              "\n",
              "  <div id=\"df-83a00d85-d7b1-4cad-9a51-301675a523ee\" class=\"colab-df-container\">\n",
              "    <div>\n",
              "<style scoped>\n",
              "    .dataframe tbody tr th:only-of-type {\n",
              "        vertical-align: middle;\n",
              "    }\n",
              "\n",
              "    .dataframe tbody tr th {\n",
              "        vertical-align: top;\n",
              "    }\n",
              "\n",
              "    .dataframe thead th {\n",
              "        text-align: right;\n",
              "    }\n",
              "</style>\n",
              "<table border=\"1\" class=\"dataframe\">\n",
              "  <thead>\n",
              "    <tr style=\"text-align: right;\">\n",
              "      <th></th>\n",
              "      <th>Image</th>\n",
              "      <th>SSIM_Score</th>\n",
              "    </tr>\n",
              "  </thead>\n",
              "  <tbody>\n",
              "    <tr>\n",
              "      <th>0</th>\n",
              "      <td>003image_1_4.bmp</td>\n",
              "      <td>0.887414</td>\n",
              "    </tr>\n",
              "    <tr>\n",
              "      <th>1</th>\n",
              "      <td>003image_1_2.bmp</td>\n",
              "      <td>0.782185</td>\n",
              "    </tr>\n",
              "    <tr>\n",
              "      <th>2</th>\n",
              "      <td>003image_1_6.bmp</td>\n",
              "      <td>0.712189</td>\n",
              "    </tr>\n",
              "    <tr>\n",
              "      <th>3</th>\n",
              "      <td>003image_1_5.bmp</td>\n",
              "      <td>0.725534</td>\n",
              "    </tr>\n",
              "    <tr>\n",
              "      <th>4</th>\n",
              "      <td>003image_1_3.bmp</td>\n",
              "      <td>0.768840</td>\n",
              "    </tr>\n",
              "    <tr>\n",
              "      <th>...</th>\n",
              "      <td>...</td>\n",
              "      <td>...</td>\n",
              "    </tr>\n",
              "    <tr>\n",
              "      <th>355</th>\n",
              "      <td>021image_5_4.bmp</td>\n",
              "      <td>0.992722</td>\n",
              "    </tr>\n",
              "    <tr>\n",
              "      <th>356</th>\n",
              "      <td>021image_5_6.bmp</td>\n",
              "      <td>0.933162</td>\n",
              "    </tr>\n",
              "    <tr>\n",
              "      <th>357</th>\n",
              "      <td>021image_5_7.bmp</td>\n",
              "      <td>0.502422</td>\n",
              "    </tr>\n",
              "    <tr>\n",
              "      <th>358</th>\n",
              "      <td>021image_5_9.bmp</td>\n",
              "      <td>0.869931</td>\n",
              "    </tr>\n",
              "    <tr>\n",
              "      <th>359</th>\n",
              "      <td>021image_5_3.bmp</td>\n",
              "      <td>0.937377</td>\n",
              "    </tr>\n",
              "  </tbody>\n",
              "</table>\n",
              "<p>360 rows × 2 columns</p>\n",
              "</div>\n",
              "    <div class=\"colab-df-buttons\">\n",
              "\n",
              "  <div class=\"colab-df-container\">\n",
              "    <button class=\"colab-df-convert\" onclick=\"convertToInteractive('df-83a00d85-d7b1-4cad-9a51-301675a523ee')\"\n",
              "            title=\"Convert this dataframe to an interactive table.\"\n",
              "            style=\"display:none;\">\n",
              "\n",
              "  <svg xmlns=\"http://www.w3.org/2000/svg\" height=\"24px\" viewBox=\"0 -960 960 960\">\n",
              "    <path d=\"M120-120v-720h720v720H120Zm60-500h600v-160H180v160Zm220 220h160v-160H400v160Zm0 220h160v-160H400v160ZM180-400h160v-160H180v160Zm440 0h160v-160H620v160ZM180-180h160v-160H180v160Zm440 0h160v-160H620v160Z\"/>\n",
              "  </svg>\n",
              "    </button>\n",
              "\n",
              "  <style>\n",
              "    .colab-df-container {\n",
              "      display:flex;\n",
              "      gap: 12px;\n",
              "    }\n",
              "\n",
              "    .colab-df-convert {\n",
              "      background-color: #E8F0FE;\n",
              "      border: none;\n",
              "      border-radius: 50%;\n",
              "      cursor: pointer;\n",
              "      display: none;\n",
              "      fill: #1967D2;\n",
              "      height: 32px;\n",
              "      padding: 0 0 0 0;\n",
              "      width: 32px;\n",
              "    }\n",
              "\n",
              "    .colab-df-convert:hover {\n",
              "      background-color: #E2EBFA;\n",
              "      box-shadow: 0px 1px 2px rgba(60, 64, 67, 0.3), 0px 1px 3px 1px rgba(60, 64, 67, 0.15);\n",
              "      fill: #174EA6;\n",
              "    }\n",
              "\n",
              "    .colab-df-buttons div {\n",
              "      margin-bottom: 4px;\n",
              "    }\n",
              "\n",
              "    [theme=dark] .colab-df-convert {\n",
              "      background-color: #3B4455;\n",
              "      fill: #D2E3FC;\n",
              "    }\n",
              "\n",
              "    [theme=dark] .colab-df-convert:hover {\n",
              "      background-color: #434B5C;\n",
              "      box-shadow: 0px 1px 3px 1px rgba(0, 0, 0, 0.15);\n",
              "      filter: drop-shadow(0px 1px 2px rgba(0, 0, 0, 0.3));\n",
              "      fill: #FFFFFF;\n",
              "    }\n",
              "  </style>\n",
              "\n",
              "    <script>\n",
              "      const buttonEl =\n",
              "        document.querySelector('#df-83a00d85-d7b1-4cad-9a51-301675a523ee button.colab-df-convert');\n",
              "      buttonEl.style.display =\n",
              "        google.colab.kernel.accessAllowed ? 'block' : 'none';\n",
              "\n",
              "      async function convertToInteractive(key) {\n",
              "        const element = document.querySelector('#df-83a00d85-d7b1-4cad-9a51-301675a523ee');\n",
              "        const dataTable =\n",
              "          await google.colab.kernel.invokeFunction('convertToInteractive',\n",
              "                                                    [key], {});\n",
              "        if (!dataTable) return;\n",
              "\n",
              "        const docLinkHtml = 'Like what you see? Visit the ' +\n",
              "          '<a target=\"_blank\" href=https://colab.research.google.com/notebooks/data_table.ipynb>data table notebook</a>'\n",
              "          + ' to learn more about interactive tables.';\n",
              "        element.innerHTML = '';\n",
              "        dataTable['output_type'] = 'display_data';\n",
              "        await google.colab.output.renderOutput(dataTable, element);\n",
              "        const docLink = document.createElement('div');\n",
              "        docLink.innerHTML = docLinkHtml;\n",
              "        element.appendChild(docLink);\n",
              "      }\n",
              "    </script>\n",
              "  </div>\n",
              "\n",
              "\n",
              "<div id=\"df-52a49985-6d91-4380-bb9d-d70393353006\">\n",
              "  <button class=\"colab-df-quickchart\" onclick=\"quickchart('df-52a49985-6d91-4380-bb9d-d70393353006')\"\n",
              "            title=\"Suggest charts\"\n",
              "            style=\"display:none;\">\n",
              "\n",
              "<svg xmlns=\"http://www.w3.org/2000/svg\" height=\"24px\"viewBox=\"0 0 24 24\"\n",
              "     width=\"24px\">\n",
              "    <g>\n",
              "        <path d=\"M19 3H5c-1.1 0-2 .9-2 2v14c0 1.1.9 2 2 2h14c1.1 0 2-.9 2-2V5c0-1.1-.9-2-2-2zM9 17H7v-7h2v7zm4 0h-2V7h2v10zm4 0h-2v-4h2v4z\"/>\n",
              "    </g>\n",
              "</svg>\n",
              "  </button>\n",
              "\n",
              "<style>\n",
              "  .colab-df-quickchart {\n",
              "      --bg-color: #E8F0FE;\n",
              "      --fill-color: #1967D2;\n",
              "      --hover-bg-color: #E2EBFA;\n",
              "      --hover-fill-color: #174EA6;\n",
              "      --disabled-fill-color: #AAA;\n",
              "      --disabled-bg-color: #DDD;\n",
              "  }\n",
              "\n",
              "  [theme=dark] .colab-df-quickchart {\n",
              "      --bg-color: #3B4455;\n",
              "      --fill-color: #D2E3FC;\n",
              "      --hover-bg-color: #434B5C;\n",
              "      --hover-fill-color: #FFFFFF;\n",
              "      --disabled-bg-color: #3B4455;\n",
              "      --disabled-fill-color: #666;\n",
              "  }\n",
              "\n",
              "  .colab-df-quickchart {\n",
              "    background-color: var(--bg-color);\n",
              "    border: none;\n",
              "    border-radius: 50%;\n",
              "    cursor: pointer;\n",
              "    display: none;\n",
              "    fill: var(--fill-color);\n",
              "    height: 32px;\n",
              "    padding: 0;\n",
              "    width: 32px;\n",
              "  }\n",
              "\n",
              "  .colab-df-quickchart:hover {\n",
              "    background-color: var(--hover-bg-color);\n",
              "    box-shadow: 0 1px 2px rgba(60, 64, 67, 0.3), 0 1px 3px 1px rgba(60, 64, 67, 0.15);\n",
              "    fill: var(--button-hover-fill-color);\n",
              "  }\n",
              "\n",
              "  .colab-df-quickchart-complete:disabled,\n",
              "  .colab-df-quickchart-complete:disabled:hover {\n",
              "    background-color: var(--disabled-bg-color);\n",
              "    fill: var(--disabled-fill-color);\n",
              "    box-shadow: none;\n",
              "  }\n",
              "\n",
              "  .colab-df-spinner {\n",
              "    border: 2px solid var(--fill-color);\n",
              "    border-color: transparent;\n",
              "    border-bottom-color: var(--fill-color);\n",
              "    animation:\n",
              "      spin 1s steps(1) infinite;\n",
              "  }\n",
              "\n",
              "  @keyframes spin {\n",
              "    0% {\n",
              "      border-color: transparent;\n",
              "      border-bottom-color: var(--fill-color);\n",
              "      border-left-color: var(--fill-color);\n",
              "    }\n",
              "    20% {\n",
              "      border-color: transparent;\n",
              "      border-left-color: var(--fill-color);\n",
              "      border-top-color: var(--fill-color);\n",
              "    }\n",
              "    30% {\n",
              "      border-color: transparent;\n",
              "      border-left-color: var(--fill-color);\n",
              "      border-top-color: var(--fill-color);\n",
              "      border-right-color: var(--fill-color);\n",
              "    }\n",
              "    40% {\n",
              "      border-color: transparent;\n",
              "      border-right-color: var(--fill-color);\n",
              "      border-top-color: var(--fill-color);\n",
              "    }\n",
              "    60% {\n",
              "      border-color: transparent;\n",
              "      border-right-color: var(--fill-color);\n",
              "    }\n",
              "    80% {\n",
              "      border-color: transparent;\n",
              "      border-right-color: var(--fill-color);\n",
              "      border-bottom-color: var(--fill-color);\n",
              "    }\n",
              "    90% {\n",
              "      border-color: transparent;\n",
              "      border-bottom-color: var(--fill-color);\n",
              "    }\n",
              "  }\n",
              "</style>\n",
              "\n",
              "  <script>\n",
              "    async function quickchart(key) {\n",
              "      const quickchartButtonEl =\n",
              "        document.querySelector('#' + key + ' button');\n",
              "      quickchartButtonEl.disabled = true;  // To prevent multiple clicks.\n",
              "      quickchartButtonEl.classList.add('colab-df-spinner');\n",
              "      try {\n",
              "        const charts = await google.colab.kernel.invokeFunction(\n",
              "            'suggestCharts', [key], {});\n",
              "      } catch (error) {\n",
              "        console.error('Error during call to suggestCharts:', error);\n",
              "      }\n",
              "      quickchartButtonEl.classList.remove('colab-df-spinner');\n",
              "      quickchartButtonEl.classList.add('colab-df-quickchart-complete');\n",
              "    }\n",
              "    (() => {\n",
              "      let quickchartButtonEl =\n",
              "        document.querySelector('#df-52a49985-6d91-4380-bb9d-d70393353006 button');\n",
              "      quickchartButtonEl.style.display =\n",
              "        google.colab.kernel.accessAllowed ? 'block' : 'none';\n",
              "    })();\n",
              "  </script>\n",
              "</div>\n",
              "\n",
              "  <div id=\"id_7e274e20-987a-4d39-888a-182f151fa4dd\">\n",
              "    <style>\n",
              "      .colab-df-generate {\n",
              "        background-color: #E8F0FE;\n",
              "        border: none;\n",
              "        border-radius: 50%;\n",
              "        cursor: pointer;\n",
              "        display: none;\n",
              "        fill: #1967D2;\n",
              "        height: 32px;\n",
              "        padding: 0 0 0 0;\n",
              "        width: 32px;\n",
              "      }\n",
              "\n",
              "      .colab-df-generate:hover {\n",
              "        background-color: #E2EBFA;\n",
              "        box-shadow: 0px 1px 2px rgba(60, 64, 67, 0.3), 0px 1px 3px 1px rgba(60, 64, 67, 0.15);\n",
              "        fill: #174EA6;\n",
              "      }\n",
              "\n",
              "      [theme=dark] .colab-df-generate {\n",
              "        background-color: #3B4455;\n",
              "        fill: #D2E3FC;\n",
              "      }\n",
              "\n",
              "      [theme=dark] .colab-df-generate:hover {\n",
              "        background-color: #434B5C;\n",
              "        box-shadow: 0px 1px 3px 1px rgba(0, 0, 0, 0.15);\n",
              "        filter: drop-shadow(0px 1px 2px rgba(0, 0, 0, 0.3));\n",
              "        fill: #FFFFFF;\n",
              "      }\n",
              "    </style>\n",
              "    <button class=\"colab-df-generate\" onclick=\"generateWithVariable('ssim_scores')\"\n",
              "            title=\"Generate code using this dataframe.\"\n",
              "            style=\"display:none;\">\n",
              "\n",
              "  <svg xmlns=\"http://www.w3.org/2000/svg\" height=\"24px\"viewBox=\"0 0 24 24\"\n",
              "       width=\"24px\">\n",
              "    <path d=\"M7,19H8.4L18.45,9,17,7.55,7,17.6ZM5,21V16.75L18.45,3.32a2,2,0,0,1,2.83,0l1.4,1.43a1.91,1.91,0,0,1,.58,1.4,1.91,1.91,0,0,1-.58,1.4L9.25,21ZM18.45,9,17,7.55Zm-12,3A5.31,5.31,0,0,0,4.9,8.1,5.31,5.31,0,0,0,1,6.5,5.31,5.31,0,0,0,4.9,4.9,5.31,5.31,0,0,0,6.5,1,5.31,5.31,0,0,0,8.1,4.9,5.31,5.31,0,0,0,12,6.5,5.46,5.46,0,0,0,6.5,12Z\"/>\n",
              "  </svg>\n",
              "    </button>\n",
              "    <script>\n",
              "      (() => {\n",
              "      const buttonEl =\n",
              "        document.querySelector('#id_7e274e20-987a-4d39-888a-182f151fa4dd button.colab-df-generate');\n",
              "      buttonEl.style.display =\n",
              "        google.colab.kernel.accessAllowed ? 'block' : 'none';\n",
              "\n",
              "      buttonEl.onclick = () => {\n",
              "        google.colab.notebook.generateWithVariable('ssim_scores');\n",
              "      }\n",
              "      })();\n",
              "    </script>\n",
              "  </div>\n",
              "\n",
              "    </div>\n",
              "  </div>\n"
            ],
            "text/plain": [
              "                Image  SSIM_Score\n",
              "0    003image_1_4.bmp    0.887414\n",
              "1    003image_1_2.bmp    0.782185\n",
              "2    003image_1_6.bmp    0.712189\n",
              "3    003image_1_5.bmp    0.725534\n",
              "4    003image_1_3.bmp    0.768840\n",
              "..                ...         ...\n",
              "355  021image_5_4.bmp    0.992722\n",
              "356  021image_5_6.bmp    0.933162\n",
              "357  021image_5_7.bmp    0.502422\n",
              "358  021image_5_9.bmp    0.869931\n",
              "359  021image_5_3.bmp    0.937377\n",
              "\n",
              "[360 rows x 2 columns]"
            ]
          },
          "execution_count": 5,
          "metadata": {},
          "output_type": "execute_result"
        }
      ],
      "source": [
        "ssim_scores"
      ]
    },
    {
      "cell_type": "code",
      "execution_count": null,
      "metadata": {
        "id": "D6ufeSpNhqjl"
      },
      "outputs": [],
      "source": [
        "base_path = '/content/drive/MyDrive/Phase2/Stimuli/separate'"
      ]
    },
    {
      "cell_type": "code",
      "execution_count": null,
      "metadata": {
        "id": "WnqEHAaOhngn"
      },
      "outputs": [],
      "source": [
        "def load_dataset(base_path, ssim_scores):\n",
        "    images_dict = {}\n",
        "    labels_dict = {}\n",
        "    ssim_dict = dict(zip(ssim_scores['Image'], ssim_scores['SSIM_Score']))\n",
        "\n",
        "    for folder in os.listdir(base_path):\n",
        "        folder_path = os.path.join(base_path, folder)\n",
        "        if os.path.isdir(folder_path):\n",
        "            images = []\n",
        "            labels = []\n",
        "            for file in os.listdir(folder_path):\n",
        "                if file.endswith('.bmp'):\n",
        "                    file_path = os.path.join(folder_path, file)\n",
        "                    img = load_img(file_path, target_size=(IMAGE_HEIGHT, IMAGE_WIDTH))\n",
        "                    img_array = img_to_array(img)\n",
        "                    images.append(img_array)\n",
        "                    if folder == 'Reference':\n",
        "                        labels.append(1.0)\n",
        "                    else:\n",
        "                        label = ssim_dict.get(file, 0.0)\n",
        "                        labels.append(label)\n",
        "            images_dict[folder] = np.array(images)\n",
        "            labels_dict[folder] = np.array(labels)\n",
        "\n",
        "    return images_dict, labels_dict"
      ]
    },
    {
      "cell_type": "code",
      "execution_count": null,
      "metadata": {
        "id": "oZdKIZWdhs2f"
      },
      "outputs": [],
      "source": [
        "images_dict, labels_dict = load_dataset(base_path, ssim_scores)"
      ]
    },
    {
      "cell_type": "code",
      "execution_count": null,
      "metadata": {
        "id": "RKCDrp6tqP2V"
      },
      "outputs": [],
      "source": [
        "all_images = np.concatenate(list(images_dict.values()))\n",
        "all_labels = np.concatenate(list(labels_dict.values()))"
      ]
    },
    {
      "cell_type": "code",
      "execution_count": null,
      "metadata": {
        "id": "4MxzFXRYiRB-"
      },
      "outputs": [],
      "source": [
        "def display_non_reference_images(images, labels, num_images=20):\n",
        "    non_reference_images = [(img, label) for img, label in zip(images, labels) if label != 1.0]\n",
        "    num_images = min(num_images, len(non_reference_images))\n",
        "    plt.figure(figsize=(15, 10))\n",
        "    for i in range(num_images):\n",
        "        img, label = non_reference_images[i]\n",
        "        plt.subplot(1, num_images, i+1)\n",
        "        plt.imshow(img.astype(\"uint8\"))\n",
        "        plt.title(f\"Label: {label:.2f}\")\n",
        "        plt.axis('off')\n",
        "    plt.show()"
      ]
    },
    {
      "cell_type": "code",
      "execution_count": null,
      "metadata": {
        "id": "mTo0W1U7ieQW"
      },
      "outputs": [],
      "source": [
        "display_non_reference_images(all_images, all_labels, num_images=10)"
      ]
    },
    {
      "cell_type": "code",
      "execution_count": null,
      "metadata": {
        "id": "WlLFsdmOwS0r"
      },
      "outputs": [],
      "source": [
        "def split_images(images):\n",
        "    left_images = images[:, :, :IMAGE_WIDTH//2, :]\n",
        "    right_images = images[:, :, IMAGE_WIDTH//2:, :]\n",
        "    return left_images, right_images"
      ]
    },
    {
      "cell_type": "code",
      "execution_count": null,
      "metadata": {
        "id": "SjZu2stmwUNV"
      },
      "outputs": [],
      "source": [
        "def display_images(images, num_images=5):\n",
        "    plt.figure(figsize=(15, 10))\n",
        "    for i in range(num_images):\n",
        "        plt.subplot(1, num_images, i+1)\n",
        "        plt.imshow(images[i].astype(\"uint8\"))\n",
        "        plt.axis('off')\n",
        "    #plt.title(title)\n",
        "    plt.show()"
      ]
    },
    {
      "cell_type": "code",
      "execution_count": null,
      "metadata": {
        "id": "FQt4hJdjwYXd"
      },
      "outputs": [],
      "source": [
        "display_images(all_images[:5])"
      ]
    },
    {
      "cell_type": "code",
      "execution_count": null,
      "metadata": {
        "id": "Uo01rf45qlEF"
      },
      "outputs": [],
      "source": [
        "all_left, all_right = split_images(all_images)"
      ]
    },
    {
      "cell_type": "code",
      "execution_count": null,
      "metadata": {
        "id": "ZXdo8o0zqnuJ"
      },
      "outputs": [],
      "source": [
        "display_images(all_left[:5])\n",
        "display_images(all_right[:5])"
      ]
    },
    {
      "cell_type": "code",
      "execution_count": null,
      "metadata": {
        "id": "vzUhM4XuqrNa"
      },
      "outputs": [],
      "source": [
        "train_images, test_images, train_labels, test_labels = train_test_split(all_images, all_labels, test_size=0.2, random_state=101)"
      ]
    },
    {
      "cell_type": "code",
      "execution_count": null,
      "metadata": {
        "id": "qxyBlLgIquXM"
      },
      "outputs": [],
      "source": [
        "train_left, train_right = split_images(train_images)\n",
        "test_left, test_right = split_images(test_images)"
      ]
    },
    {
      "cell_type": "code",
      "execution_count": null,
      "metadata": {
        "id": "nDtV2-Iqwjkt"
      },
      "outputs": [],
      "source": [
        "display_images(train_left[:5])\n",
        "display_images(train_right[:5])"
      ]
    },
    {
      "cell_type": "code",
      "execution_count": null,
      "metadata": {
        "colab": {
          "background_save": true
        },
        "id": "AMBxVDOjq0qc",
        "outputId": "31019286-64d2-4023-c1e1-dedc422e6770"
      },
      "outputs": [
        {
          "name": "stdout",
          "output_type": "stream",
          "text": [
            "Collecting pyWavelets\n",
            "  Downloading pywavelets-1.7.0-cp310-cp310-manylinux_2_17_x86_64.manylinux2014_x86_64.whl.metadata (9.0 kB)\n",
            "Requirement already satisfied: numpy<3,>=1.23 in /usr/local/lib/python3.10/dist-packages (from pyWavelets) (1.26.4)\n",
            "Downloading pywavelets-1.7.0-cp310-cp310-manylinux_2_17_x86_64.manylinux2014_x86_64.whl (4.5 MB)\n",
            "\u001b[2K   \u001b[90m━━━━━━━━━━━━━━━━━━━━━━━━━━━━━━━━━━━━━━━━\u001b[0m \u001b[32m4.5/4.5 MB\u001b[0m \u001b[31m30.8 MB/s\u001b[0m eta \u001b[36m0:00:00\u001b[0m\n",
            "\u001b[?25hInstalling collected packages: pyWavelets\n",
            "Successfully installed pyWavelets-1.7.0\n"
          ]
        }
      ],
      "source": [
        "!pip install pyWavelets"
      ]
    },
    {
      "cell_type": "code",
      "execution_count": null,
      "metadata": {
        "colab": {
          "background_save": true
        },
        "id": "09YdroO9vcXm"
      },
      "outputs": [],
      "source": [
        "import pywt"
      ]
    },
    {
      "cell_type": "code",
      "execution_count": null,
      "metadata": {
        "colab": {
          "background_save": true
        },
        "id": "xQ2cjBeL2eiq",
        "outputId": "10449751-922f-4393-ad1c-ff40bc6efa76"
      },
      "outputs": [
        {
          "data": {
            "text/plain": [
              "(224, 112, 3)"
            ]
          },
          "execution_count": 22,
          "metadata": {},
          "output_type": "execute_result"
        }
      ],
      "source": [
        "train_left[0].shape"
      ]
    },
    {
      "cell_type": "code",
      "execution_count": null,
      "metadata": {
        "colab": {
          "background_save": true
        },
        "id": "d7qZwBnfq7K-"
      },
      "outputs": [],
      "source": [
        "def get_saliency_map_wavelet_rgb(image):\n",
        "    gray_image = cv2.cvtColor(image, cv2.COLOR_RGB2GRAY)\n",
        "    gray_image = gray_image.astype(np.float32)\n",
        "    height, width = gray_image.shape\n",
        "    coeffs2 = pywt.dwt2(gray_image, 'haar')\n",
        "    cA, (cH, cV, cD) = coeffs2\n",
        "    cH = cv2.resize(cH, (width, height))\n",
        "    cV = cv2.resize(cV, (width, height))\n",
        "    cD = cv2.resize(cD, (width, height))\n",
        "    saliency_map_channel = np.sqrt(cH**2 + cV**2 + cD**2)\n",
        "    saliency_map = cv2.normalize(saliency_map_channel, None, 0, 255, cv2.NORM_MINMAX)\n",
        "    return saliency_map.astype(np.uint8)"
      ]
    },
    {
      "cell_type": "code",
      "execution_count": null,
      "metadata": {
        "colab": {
          "background_save": true
        },
        "collapsed": true,
        "id": "jSNgIhJ4z3sC"
      },
      "outputs": [],
      "source": [
        "salience_train_left = [get_saliency_map_wavelet_rgb(image) for image in train_left]\n",
        "salience_train_right = [get_saliency_map_wavelet_rgb(image) for image in train_right]"
      ]
    },
    {
      "cell_type": "code",
      "execution_count": null,
      "metadata": {
        "colab": {
          "background_save": true
        },
        "id": "TK6vRkk90HR2"
      },
      "outputs": [],
      "source": [
        "salience_test_left = [get_saliency_map_wavelet_rgb(image) for image in test_left]\n",
        "salience_test_right = [get_saliency_map_wavelet_rgb(image) for image in test_right]"
      ]
    },
    {
      "cell_type": "code",
      "execution_count": null,
      "metadata": {
        "colab": {
          "background_save": true
        },
        "id": "zuQlGOlX2rr4",
        "outputId": "fa333685-0924-44d2-e09a-0aa2a6e4fde9"
      },
      "outputs": [
        {
          "data": {
            "text/plain": [
              "(224, 112)"
            ]
          },
          "execution_count": 26,
          "metadata": {},
          "output_type": "execute_result"
        }
      ],
      "source": [
        "salience_train_left[0].shape"
      ]
    },
    {
      "cell_type": "code",
      "execution_count": null,
      "metadata": {
        "colab": {
          "background_save": true
        },
        "id": "7eZnnUX2D5PH"
      },
      "outputs": [],
      "source": [
        "salience_train_left_rgb = tf.image.grayscale_to_rgb(tf.expand_dims(salience_train_left, axis=-1))\n",
        "salience_train_right_rgb = tf.image.grayscale_to_rgb(tf.expand_dims(salience_train_right, axis=-1))"
      ]
    },
    {
      "cell_type": "code",
      "execution_count": null,
      "metadata": {
        "colab": {
          "background_save": true
        },
        "id": "TMcK_oMfEceb",
        "outputId": "16b02644-563f-469a-fc01-934ecf234ab3"
      },
      "outputs": [
        {
          "data": {
            "text/plain": [
              "TensorShape([320, 224, 112, 3])"
            ]
          },
          "execution_count": 28,
          "metadata": {},
          "output_type": "execute_result"
        }
      ],
      "source": [
        "salience_train_left_rgb.shape"
      ]
    },
    {
      "cell_type": "code",
      "execution_count": null,
      "metadata": {
        "colab": {
          "background_save": true
        },
        "id": "waxlykXPFCbJ",
        "outputId": "d0cbf31a-2639-4b0e-ae00-bca7fce27b09"
      },
      "outputs": [
        {
          "data": {
            "image/png": "[encoded data removed]",
            "text/plain": [
              "<Figure size 640x480 with 1 Axes>"
            ]
          },
          "metadata": {},
          "output_type": "display_data"
        }
      ],
      "source": [
        "image_to_display = salience_train_left_rgb[0].numpy() if isinstance(salience_train_left_rgb, tf.Tensor) else salience_train_left_rgb[0]\n",
        "plt.imshow(image_to_display)\n",
        "plt.axis('off')\n",
        "plt.show()"
      ]
    },
    {
      "cell_type": "code",
      "execution_count": null,
      "metadata": {
        "colab": {
          "background_save": true
        },
        "id": "Yk-0zHl10HIF"
      },
      "outputs": [],
      "source": [
        "def display_salience_images(images,window_names=None):\n",
        "    for i in range(len(images)):\n",
        "        img = images[i]\n",
        "        cv2_imshow(img)\n",
        "        cv2.waitKey(0)\n",
        "        cv2.destroyAllWindows()"
      ]
    },
    {
      "cell_type": "code",
      "execution_count": null,
      "metadata": {
        "id": "xrtEJD7B0G8T"
      },
      "outputs": [],
      "source": [
        "display_images(train_left[:5])\n",
        "display_images(salience_train_left[:5])"
      ]
    },
    {
      "cell_type": "markdown",
      "metadata": {
        "id": "AesRtvXbWHlK"
      },
      "source": [
        "#MODEL"
      ]
    },
    {
      "cell_type": "code",
      "execution_count": null,
      "metadata": {
        "id": "Ka3MxG75rX4B"
      },
      "outputs": [],
      "source": [
        "input_shape = (224, 112, 3)"
      ]
    },
    {
      "cell_type": "code",
      "execution_count": null,
      "metadata": {
        "id": "8EuQBPaWnudr"
      },
      "outputs": [],
      "source": [
        "def residual_block(x, filters, kernel_size=3, stride=1):\n",
        "    shortcut = x\n",
        "    x = layers.Conv2D(filters, kernel_size, strides=stride, padding='same', activation='relu', kernel_initializer='he_uniform')(x)\n",
        "    x = layers.BatchNormalization()(x)\n",
        "    x = layers.Conv2D(filters, kernel_size, strides=1, padding='same', kernel_initializer='he_uniform')(x)\n",
        "    x = layers.BatchNormalization()(x)\n",
        "\n",
        "    # Adjust the shortcut path\n",
        "    if stride != 1 or x.shape[-1] != filters:\n",
        "        shortcut = layers.Conv2D(filters, 1, strides=stride, padding='same', kernel_initializer='he_uniform')(shortcut)\n",
        "        shortcut = layers.BatchNormalization()(shortcut)\n",
        "\n",
        "    x = layers.add([x, shortcut])\n",
        "    x = layers.Activation('relu')(x)\n",
        "    return x"
      ]
    },
    {
      "cell_type": "code",
      "execution_count": null,
      "metadata": {
        "id": "5GIgLxTQd594"
      },
      "outputs": [],
      "source": [
        "def build_feature_extractor_with_residuals(input_shape):\n",
        "    input_layer = tf.keras.Input(shape=input_shape)\n",
        "\n",
        "    x = layers.Conv2D(32, (3, 3), activation='relu', kernel_initializer='he_uniform', padding='same')(input_layer)\n",
        "    x = layers.BatchNormalization()(x)\n",
        "    x = layers.Conv2D(32, (3, 3), activation='relu', kernel_initializer='he_uniform', padding='same')(x)\n",
        "    x = layers.BatchNormalization()(x)\n",
        "    x = layers.MaxPooling2D((2, 2))(x)\n",
        "    x = layers.Dropout(0.3)(x)\n",
        "\n",
        "    x = residual_block(x, 64, stride=2)\n",
        "    x = residual_block(x, 64, stride=1)\n",
        "    x = layers.Dropout(0.3)(x)\n",
        "\n",
        "    x = residual_block(x, 128, stride=2)\n",
        "    x = residual_block(x, 128, stride=1)\n",
        "    x = layers.Dropout(0.3)(x)\n",
        "\n",
        "    x = residual_block(x, 256, stride=2)\n",
        "    x = residual_block(x, 256, stride=1)\n",
        "    x = layers.Dropout(0.4)(x)\n",
        "\n",
        "    x = layers.GlobalAveragePooling2D()(x)\n",
        "    x = layers.Dense(256, activation='relu', kernel_initializer='he_uniform')(x)\n",
        "    x = layers.BatchNormalization()(x)\n",
        "    x = layers.Dropout(0.4)(x)\n",
        "\n",
        "    return tf.keras.Model(inputs=input_layer, outputs=x)"
      ]
    },
    {
      "cell_type": "code",
      "execution_count": null,
      "metadata": {
        "id": "cd1Y2YSvvt52"
      },
      "outputs": [],
      "source": [
        "left_feature_extractor = build_feature_extractor_with_residuals(input_shape)\n",
        "right_feature_extractor = build_feature_extractor_with_residuals(input_shape)"
      ]
    },
    {
      "cell_type": "code",
      "execution_count": null,
      "metadata": {
        "id": "XiQUbuA5vXDP"
      },
      "outputs": [],
      "source": [
        "def build_combined_model(left_feature_extractor, right_feature_extractor, input_shape):\n",
        "    left_input = tf.keras.Input(shape=input_shape)\n",
        "    right_input = tf.keras.Input(shape=input_shape)\n",
        "\n",
        "    left_features = left_feature_extractor(left_input)\n",
        "    right_features = right_feature_extractor(right_input)\n",
        "\n",
        "    combined_features = layers.concatenate([left_features, right_features])\n",
        "    combined_features = layers.Dense(1024, activation='relu')(combined_features)\n",
        "    combined_features = layers.BatchNormalization()(combined_features)\n",
        "    combined_features = layers.Dropout(0.5)(combined_features)\n",
        "\n",
        "    combined_features = layers.Dense(512, activation='relu')(combined_features)\n",
        "    combined_features = layers.BatchNormalization()(combined_features)\n",
        "    combined_features = layers.Dropout(0.4)(combined_features)\n",
        "\n",
        "    combined_features = layers.Dense(128, activation='relu')(combined_features)\n",
        "    combined_features = layers.BatchNormalization()(combined_features)\n",
        "    combined_features = layers.Dropout(0.3)(combined_features)\n",
        "\n",
        "    output = layers.Dense(1, activation='sigmoid')(combined_features)\n",
        "\n",
        "    model = tf.keras.Model(inputs=[left_input, right_input], outputs=output)\n",
        "    return model"
      ]
    },
    {
      "cell_type": "code",
      "execution_count": null,
      "metadata": {
        "id": "lR8fDpXxvVm7"
      },
      "outputs": [],
      "source": [
        "combined_model = build_combined_model(left_feature_extractor, right_feature_extractor, input_shape)"
      ]
    },
    {
      "cell_type": "code",
      "execution_count": null,
      "metadata": {
        "id": "0vhgJgLCv7Pi"
      },
      "outputs": [],
      "source": [
        "combined_model.compile(optimizer=tf.keras.optimizers.Adam(learning_rate=1e-3), loss='mse', metrics=['mae'])"
      ]
    },
    {
      "cell_type": "code",
      "execution_count": null,
      "metadata": {
        "colab": {
          "base_uri": "https://localhost:8080/"
        },
        "id": "VdYUJP4xv8aW",
        "outputId": "3926045b-9db5-4e38-9f24-d89ca28dd61d"
      },
      "outputs": [
        {
          "name": "stdout",
          "output_type": "stream",
          "text": [
            "Model: \"model_6\"\n",
            "__________________________________________________________________________________________________\n",
            " Layer (type)                Output Shape                 Param #   Connected to                  \n",
            "==================================================================================================\n",
            " input_11 (InputLayer)       [(None, 224, 112, 3)]        0         []                            \n",
            "                                                                                                  \n",
            " input_12 (InputLayer)       [(None, 224, 112, 3)]        0         []                            \n",
            "                                                                                                  \n",
            " model_4 (Functional)        (None, 256)                  2840928   ['input_11[0][0]']            \n",
            "                                                                                                  \n",
            " model_5 (Functional)        (None, 256)                  2840928   ['input_12[0][0]']            \n",
            "                                                                                                  \n",
            " concatenate_2 (Concatenate  (None, 512)                  0         ['model_4[0][0]',             \n",
            " )                                                                   'model_5[0][0]']             \n",
            "                                                                                                  \n",
            " dense_11 (Dense)            (None, 1024)                 525312    ['concatenate_2[0][0]']       \n",
            "                                                                                                  \n",
            " batch_normalization_71 (Ba  (None, 1024)                 4096      ['dense_11[0][0]']            \n",
            " tchNormalization)                                                                                \n",
            "                                                                                                  \n",
            " dropout_25 (Dropout)        (None, 1024)                 0         ['batch_normalization_71[0][0]\n",
            "                                                                    ']                            \n",
            "                                                                                                  \n",
            " dense_12 (Dense)            (None, 512)                  524800    ['dropout_25[0][0]']          \n",
            "                                                                                                  \n",
            " batch_normalization_72 (Ba  (None, 512)                  2048      ['dense_12[0][0]']            \n",
            " tchNormalization)                                                                                \n",
            "                                                                                                  \n",
            " dropout_26 (Dropout)        (None, 512)                  0         ['batch_normalization_72[0][0]\n",
            "                                                                    ']                            \n",
            "                                                                                                  \n",
            " dense_13 (Dense)            (None, 128)                  65664     ['dropout_26[0][0]']          \n",
            "                                                                                                  \n",
            " batch_normalization_73 (Ba  (None, 128)                  512       ['dense_13[0][0]']            \n",
            " tchNormalization)                                                                                \n",
            "                                                                                                  \n",
            " dropout_27 (Dropout)        (None, 128)                  0         ['batch_normalization_73[0][0]\n",
            "                                                                    ']                            \n",
            "                                                                                                  \n",
            " dense_14 (Dense)            (None, 1)                    129       ['dropout_27[0][0]']          \n",
            "                                                                                                  \n",
            "==================================================================================================\n",
            "Total params: 6804417 (25.96 MB)\n",
            "Trainable params: 6790849 (25.91 MB)\n",
            "Non-trainable params: 13568 (53.00 KB)\n",
            "__________________________________________________________________________________________________\n"
          ]
        }
      ],
      "source": [
        "combined_model.summary()"
      ]
    },
    {
      "cell_type": "code",
      "execution_count": null,
      "metadata": {
        "colab": {
          "base_uri": "https://localhost:8080/"
        },
        "id": "eGZ0vOwkv8WN",
        "outputId": "712f292b-f16f-4a13-faa7-0bf1fce7e0dd"
      },
      "outputs": [
        {
          "name": "stdout",
          "output_type": "stream",
          "text": [
            "Epoch 1/50\n",
            "10/10 [==============================] - 31s 402ms/step - loss: 0.1676 - mae: 0.3250 - val_loss: 0.6136 - val_mae: 0.7650\n",
            "Epoch 2/50\n",
            "10/10 [==============================] - 3s 267ms/step - loss: 0.1439 - mae: 0.2951 - val_loss: 0.6136 - val_mae: 0.7650\n",
            "Epoch 3/50\n",
            "10/10 [==============================] - 2s 247ms/step - loss: 0.1196 - mae: 0.2640 - val_loss: 0.0837 - val_mae: 0.2350\n",
            "Epoch 4/50\n",
            "10/10 [==============================] - 2s 246ms/step - loss: 0.0878 - mae: 0.2243 - val_loss: 0.0837 - val_mae: 0.2350\n",
            "Epoch 5/50\n",
            "10/10 [==============================] - 2s 246ms/step - loss: 0.0707 - mae: 0.1961 - val_loss: 0.0837 - val_mae: 0.2350\n",
            "Epoch 6/50\n",
            "10/10 [==============================] - 2s 245ms/step - loss: 0.0657 - mae: 0.1920 - val_loss: 0.0837 - val_mae: 0.2350\n",
            "Epoch 7/50\n",
            "10/10 [==============================] - 2s 251ms/step - loss: 0.0646 - mae: 0.1867 - val_loss: 0.0837 - val_mae: 0.2350\n",
            "Epoch 8/50\n",
            "10/10 [==============================] - 3s 258ms/step - loss: 0.0523 - mae: 0.1678 - val_loss: 0.0837 - val_mae: 0.2350\n",
            "Epoch 9/50\n",
            "10/10 [==============================] - 3s 252ms/step - loss: 0.0490 - mae: 0.1651 - val_loss: 0.0833 - val_mae: 0.2346\n",
            "Epoch 10/50\n",
            "10/10 [==============================] - 2s 244ms/step - loss: 0.0438 - mae: 0.1496 - val_loss: 0.0819 - val_mae: 0.2327\n",
            "Epoch 11/50\n",
            "10/10 [==============================] - 2s 245ms/step - loss: 0.0427 - mae: 0.1510 - val_loss: 0.0827 - val_mae: 0.2340\n",
            "Epoch 12/50\n",
            "10/10 [==============================] - 3s 264ms/step - loss: 0.0399 - mae: 0.1425 - val_loss: 0.0757 - val_mae: 0.2252\n",
            "Epoch 13/50\n",
            "10/10 [==============================] - 3s 272ms/step - loss: 0.0429 - mae: 0.1524 - val_loss: 0.0604 - val_mae: 0.2022\n",
            "Epoch 14/50\n",
            "10/10 [==============================] - 3s 257ms/step - loss: 0.0429 - mae: 0.1476 - val_loss: 0.0510 - val_mae: 0.1837\n",
            "Epoch 15/50\n",
            "10/10 [==============================] - 3s 271ms/step - loss: 0.0342 - mae: 0.1319 - val_loss: 0.0517 - val_mae: 0.1856\n",
            "Epoch 16/50\n",
            "10/10 [==============================] - 3s 253ms/step - loss: 0.0385 - mae: 0.1395 - val_loss: 0.0309 - val_mae: 0.1192\n",
            "Epoch 17/50\n",
            "10/10 [==============================] - 2s 252ms/step - loss: 0.0329 - mae: 0.1341 - val_loss: 0.0300 - val_mae: 0.1356\n",
            "Epoch 18/50\n",
            "10/10 [==============================] - 3s 262ms/step - loss: 0.0349 - mae: 0.1359 - val_loss: 0.1048 - val_mae: 0.2606\n",
            "Epoch 19/50\n",
            "10/10 [==============================] - 3s 257ms/step - loss: 0.0284 - mae: 0.1231 - val_loss: 0.1409 - val_mae: 0.3166\n",
            "Epoch 20/50\n",
            "10/10 [==============================] - 2s 251ms/step - loss: 0.0332 - mae: 0.1339 - val_loss: 0.2680 - val_mae: 0.4682\n",
            "Epoch 21/50\n",
            "10/10 [==============================] - 2s 250ms/step - loss: 0.0256 - mae: 0.1227 - val_loss: 0.0598 - val_mae: 0.2003\n",
            "Epoch 22/50\n",
            "10/10 [==============================] - 3s 258ms/step - loss: 0.0233 - mae: 0.1170 - val_loss: 0.0416 - val_mae: 0.1762\n",
            "Epoch 23/50\n",
            "10/10 [==============================] - 3s 266ms/step - loss: 0.0210 - mae: 0.1114 - val_loss: 0.0574 - val_mae: 0.2121\n",
            "Epoch 24/50\n",
            "10/10 [==============================] - 3s 268ms/step - loss: 0.0201 - mae: 0.1063 - val_loss: 0.0596 - val_mae: 0.2199\n",
            "Epoch 25/50\n",
            "10/10 [==============================] - 3s 258ms/step - loss: 0.0223 - mae: 0.1101 - val_loss: 0.1872 - val_mae: 0.4106\n",
            "Epoch 26/50\n",
            "10/10 [==============================] - 3s 257ms/step - loss: 0.0224 - mae: 0.1094 - val_loss: 0.1815 - val_mae: 0.3827\n",
            "Epoch 27/50\n",
            "10/10 [==============================] - 2s 251ms/step - loss: 0.0204 - mae: 0.1037 - val_loss: 0.0566 - val_mae: 0.1898\n",
            "Epoch 28/50\n",
            "10/10 [==============================] - 2s 251ms/step - loss: 0.0204 - mae: 0.1015 - val_loss: 0.0684 - val_mae: 0.2314\n",
            "Epoch 29/50\n",
            "10/10 [==============================] - 3s 264ms/step - loss: 0.0161 - mae: 0.0937 - val_loss: 0.1019 - val_mae: 0.2951\n",
            "Epoch 30/50\n",
            "10/10 [==============================] - 3s 253ms/step - loss: 0.0196 - mae: 0.1002 - val_loss: 0.0648 - val_mae: 0.2182\n",
            "Epoch 31/50\n",
            "10/10 [==============================] - 2s 251ms/step - loss: 0.0195 - mae: 0.1018 - val_loss: 0.0808 - val_mae: 0.2672\n",
            "Epoch 32/50\n",
            "10/10 [==============================] - 2s 247ms/step - loss: 0.0170 - mae: 0.0986 - val_loss: 0.0703 - val_mae: 0.2467\n",
            "Epoch 33/50\n",
            "10/10 [==============================] - 2s 250ms/step - loss: 0.0178 - mae: 0.0965 - val_loss: 0.0414 - val_mae: 0.1618\n",
            "Epoch 34/50\n",
            "10/10 [==============================] - 2s 251ms/step - loss: 0.0167 - mae: 0.0937 - val_loss: 0.0424 - val_mae: 0.1848\n",
            "Epoch 35/50\n",
            "10/10 [==============================] - 3s 256ms/step - loss: 0.0186 - mae: 0.0994 - val_loss: 0.0636 - val_mae: 0.2254\n",
            "Epoch 36/50\n",
            "10/10 [==============================] - 2s 247ms/step - loss: 0.0184 - mae: 0.0964 - val_loss: 0.1412 - val_mae: 0.3596\n",
            "Epoch 37/50\n",
            "10/10 [==============================] - 2s 246ms/step - loss: 0.0167 - mae: 0.0927 - val_loss: 0.0613 - val_mae: 0.2102\n",
            "Epoch 38/50\n",
            "10/10 [==============================] - 2s 247ms/step - loss: 0.0187 - mae: 0.0996 - val_loss: 0.0337 - val_mae: 0.1426\n",
            "Epoch 39/50\n",
            "10/10 [==============================] - 2s 250ms/step - loss: 0.0164 - mae: 0.0885 - val_loss: 0.0273 - val_mae: 0.1411\n",
            "Epoch 40/50\n",
            "10/10 [==============================] - 2s 252ms/step - loss: 0.0142 - mae: 0.0867 - val_loss: 0.0601 - val_mae: 0.2238\n",
            "Epoch 41/50\n",
            "10/10 [==============================] - 3s 263ms/step - loss: 0.0187 - mae: 0.0910 - val_loss: 0.0682 - val_mae: 0.2429\n",
            "Epoch 42/50\n",
            "10/10 [==============================] - 3s 254ms/step - loss: 0.0110 - mae: 0.0801 - val_loss: 0.0838 - val_mae: 0.2685\n",
            "Epoch 43/50\n",
            "10/10 [==============================] - 2s 246ms/step - loss: 0.0143 - mae: 0.0903 - val_loss: 0.0694 - val_mae: 0.2282\n",
            "Epoch 44/50\n",
            "10/10 [==============================] - 2s 246ms/step - loss: 0.0124 - mae: 0.0795 - val_loss: 0.1467 - val_mae: 0.3396\n",
            "Epoch 45/50\n",
            "10/10 [==============================] - 2s 253ms/step - loss: 0.0132 - mae: 0.0820 - val_loss: 0.0882 - val_mae: 0.2608\n",
            "Epoch 46/50\n",
            "10/10 [==============================] - 3s 259ms/step - loss: 0.0137 - mae: 0.0835 - val_loss: 0.0688 - val_mae: 0.2383\n",
            "Epoch 47/50\n",
            "10/10 [==============================] - 3s 252ms/step - loss: 0.0133 - mae: 0.0832 - val_loss: 0.1102 - val_mae: 0.3189\n",
            "Epoch 48/50\n",
            "10/10 [==============================] - 2s 250ms/step - loss: 0.0136 - mae: 0.0815 - val_loss: 0.0846 - val_mae: 0.2740\n",
            "Epoch 49/50\n",
            "10/10 [==============================] - 2s 247ms/step - loss: 0.0104 - mae: 0.0749 - val_loss: 0.0599 - val_mae: 0.2151\n",
            "Epoch 50/50\n",
            "10/10 [==============================] - 2s 246ms/step - loss: 0.0113 - mae: 0.0748 - val_loss: 0.1273 - val_mae: 0.3445\n"
          ]
        }
      ],
      "source": [
        "history = combined_model.fit(\n",
        "    [salience_train_left_rgb, salience_train_right_rgb],\n",
        "    train_labels,\n",
        "    epochs=50,\n",
        "    batch_size=32,\n",
        "    validation_data=([salience_test_left_rgb, salience_test_right_rgb], test_labels)\n",
        ")"
      ]
    },
    {
      "cell_type": "code",
      "execution_count": null,
      "metadata": {
        "colab": {
          "base_uri": "https://localhost:8080/"
        },
        "id": "3bxVDAeMv8L8",
        "outputId": "8351d3f8-b7b4-40f4-9f66-c802bacf5c0e"
      },
      "outputs": [
        {
          "name": "stdout",
          "output_type": "stream",
          "text": [
            "3/3 [==============================] - 0s 50ms/step - loss: 0.1273 - mae: 0.3445\n"
          ]
        }
      ],
      "source": [
        "test_loss, test_mae = combined_model.evaluate([salience_test_left_rgb, salience_test_right_rgb], test_labels)"
      ]
    },
    {
      "cell_type": "code",
      "execution_count": null,
      "metadata": {
        "colab": {
          "base_uri": "https://localhost:8080/"
        },
        "id": "YaKY3C_6wCJ_",
        "outputId": "1ba4d0b2-f5bf-4ecd-f2fe-b0e20fa42b15"
      },
      "outputs": [
        {
          "name": "stdout",
          "output_type": "stream",
          "text": [
            "3/3 [==============================] - 1s 45ms/step\n"
          ]
        }
      ],
      "source": [
        "test_predictions = combined_model.predict([salience_test_left_rgb, salience_test_right_rgb])"
      ]
    },
    {
      "cell_type": "code",
      "execution_count": null,
      "metadata": {
        "colab": {
          "base_uri": "https://localhost:8080/"
        },
        "id": "RdjTB-O1wCmH",
        "outputId": "2e310054-d3d9-47bc-f9a3-88e9f2924a2c"
      },
      "outputs": [
        {
          "name": "stdout",
          "output_type": "stream",
          "text": [
            "PLCC: 0.8392\n",
            "SROCC: 0.8470\n",
            "RMSE: 0.3568\n",
            "KROCC: 0.6655\n"
          ]
        }
      ],
      "source": [
        "plcc, srocc, rmse, krocc = calculate_metrics(test_labels, test_predictions.flatten())\n",
        "\n",
        "print(f\"PLCC: {plcc:.4f}\")\n",
        "print(f\"SROCC: {srocc:.4f}\")\n",
        "print(f\"RMSE: {rmse:.4f}\")\n",
        "print(f\"KROCC: {krocc:.4f}\")"
      ]
    },
    {
      "cell_type": "code",
      "execution_count": null,
      "metadata": {
        "id": "C0smNxRTr4GE"
      },
      "outputs": [],
      "source": [
        "salience_train_left_rgb = tf.image.grayscale_to_rgb(tf.expand_dims(salience_train_left, axis=-1))\n",
        "salience_train_right_rgb = tf.image.grayscale_to_rgb(tf.expand_dims(salience_train_right, axis=-1))\n",
        "salience_test_left_rgb = tf.image.grayscale_to_rgb(tf.expand_dims(salience_test_left, axis=-1))\n",
        "salience_test_right_rgb = tf.image.grayscale_to_rgb(tf.expand_dims(salience_test_right, axis=-1))"
      ]
    },
    {
      "cell_type": "code",
      "execution_count": null,
      "metadata": {
        "colab": {
          "base_uri": "https://localhost:8080/"
        },
        "id": "Ff9Xg7yAwqrO",
        "outputId": "e4c5e71d-5b44-40fa-868e-649221381582"
      },
      "outputs": [
        {
          "name": "stdout",
          "output_type": "stream",
          "text": [
            "2/2 [==============================] - 0s 442ms/step\n"
          ]
        },
        {
          "name": "stderr",
          "output_type": "stream",
          "text": [
            "<ipython-input-56-8bda4d08ea12>:2: ConstantInputWarning: An input array is constant; the correlation coefficient is not defined.\n",
            "  plcc, _ = pearsonr(y_true, y_pred)\n",
            "<ipython-input-56-8bda4d08ea12>:3: ConstantInputWarning: An input array is constant; the correlation coefficient is not defined.\n",
            "  srocc, _ = spearmanr(y_true, y_pred)\n"
          ]
        },
        {
          "name": "stdout",
          "output_type": "stream",
          "text": [
            "3/3 [==============================] - 0s 36ms/step\n",
            "3/3 [==============================] - 0s 41ms/step\n",
            "3/3 [==============================] - 0s 39ms/step\n",
            "3/3 [==============================] - 0s 37ms/step\n",
            "3/3 [==============================] - 0s 38ms/step\n"
          ]
        }
      ],
      "source": [
        "distortion_metrics = calculate_distortion_metrics(images_dict, labels_dict, combined_model)"
      ]
    },
    {
      "cell_type": "code",
      "execution_count": null,
      "metadata": {
        "colab": {
          "base_uri": "https://localhost:8080/"
        },
        "id": "qb7Q92yhwvPA",
        "outputId": "3b06e9c6-2b4b-4244-a95f-5b9d1b3fc22f"
      },
      "outputs": [
        {
          "name": "stdout",
          "output_type": "stream",
          "text": [
            "Distortion: Reference\n",
            "  PLCC: nan\n",
            "  SROCC: nan\n",
            "  RMSE: 0.4201\n",
            "  KROCC: nan\n",
            "\n",
            "Distortion: White_Noise\n",
            "  PLCC: 0.8263\n",
            "  SROCC: 0.8694\n",
            "  RMSE: 0.3972\n",
            "  KROCC: 0.6768\n",
            "\n",
            "Distortion: JPEG_2000\n",
            "  PLCC: 0.8196\n",
            "  SROCC: 0.8277\n",
            "  RMSE: 0.3332\n",
            "  KROCC: 0.6448\n",
            "\n",
            "Distortion: JPEG\n",
            "  PLCC: 0.6490\n",
            "  SROCC: 0.7233\n",
            "  RMSE: 0.4046\n",
            "  KROCC: 0.5249\n",
            "\n",
            "Distortion: Gaussian_Blur\n",
            "  PLCC: 0.8957\n",
            "  SROCC: 0.8939\n",
            "  RMSE: 0.3092\n",
            "  KROCC: 0.7410\n",
            "\n",
            "Distortion: Fast_Fading\n",
            "  PLCC: 0.8431\n",
            "  SROCC: 0.8410\n",
            "  RMSE: 0.3491\n",
            "  KROCC: 0.6784\n",
            "\n"
          ]
        }
      ],
      "source": [
        "for distortion, metrics in distortion_metrics.items():\n",
        "    plcc, srocc, rmse, krocc = metrics\n",
        "    print(f\"Distortion: {distortion}\")\n",
        "    print(f\"  PLCC: {plcc:.4f}\")\n",
        "    print(f\"  SROCC: {srocc:.4f}\")\n",
        "    print(f\"  RMSE: {rmse:.4f}\")\n",
        "    print(f\"  KROCC: {krocc:.4f}\")\n",
        "    print()"
      ]
    },
    {
      "cell_type": "code",
      "execution_count": null,
      "metadata": {
        "colab": {
          "base_uri": "https://localhost:8080/",
          "height": 472
        },
        "id": "uwMIJl97qAaT",
        "outputId": "160f6b1b-5612-45e1-f299-32e869840061"
      },
      "outputs": [
        {
          "data": {
            "image/png": "[encoded data removed]",
            "text/plain": [
              "<Figure size 640x480 with 1 Axes>"
            ]
          },
          "metadata": {},
          "output_type": "display_data"
        }
      ],
      "source": [
        "import matplotlib.pyplot as plt\n",
        "\n",
        "plt.scatter(test_labels, test_predictions, alpha=0.5)\n",
        "plt.xlabel('Actual Values')\n",
        "plt.ylabel('Predictions')\n",
        "plt.title('Predictions vs Actual Values')\n",
        "plt.grid(True)\n",
        "plt.show()\n"
      ]
    },
    {
      "cell_type": "code",
      "execution_count": null,
      "metadata": {
        "colab": {
          "base_uri": "https://localhost:8080/"
        },
        "id": "ZQ4DfLyAw3Kz",
        "outputId": "7cd96eec-3a4d-4e70-c167-bf992c401366"
      },
      "outputs": [
        {
          "name": "stderr",
          "output_type": "stream",
          "text": [
            "/usr/local/lib/python3.10/dist-packages/keras/src/engine/training.py:3103: UserWarning: You are saving your model as an HDF5 file via `model.save()`. This file format is considered legacy. We recommend using instead the native Keras format, e.g. `model.save('my_model.keras')`.\n",
            "  saving_api.save_model(\n"
          ]
        }
      ],
      "source": [
        "combined_model.save('combined_model_phase2.h5')"
      ]
    },
    {
      "cell_type": "code",
      "execution_count": null,
      "metadata": {
        "id": "3KaTQlIEw9b9"
      },
      "outputs": [],
      "source": []
    }
  ],
  "metadata": {
    "accelerator": "GPU",
    "colab": {
      "gpuType": "T4",
      "provenance": []
    },
    "kernelspec": {
      "display_name": "Python 3",
      "name": "python3"
    },
    "language_info": {
      "name": "python"
    }
  },
  "nbformat": 4,
  "nbformat_minor": 0
}