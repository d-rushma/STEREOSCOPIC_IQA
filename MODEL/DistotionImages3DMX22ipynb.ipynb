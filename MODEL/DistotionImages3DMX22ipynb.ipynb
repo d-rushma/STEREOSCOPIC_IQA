{
  "nbformat": 4,
  "nbformat_minor": 0,
  "metadata": {
    "colab": {
      "provenance": []
    },
    "kernelspec": {
      "name": "python3",
      "display_name": "Python 3"
    },
    "language_info": {
      "name": "python"
    }
  },
  "cells": [
    {
      "cell_type": "code",
      "execution_count": null,
      "metadata": {
        "colab": {
          "base_uri": "https://localhost:8080/"
        },
        "id": "YTVOqxXmiu7G",
        "outputId": "805bce3b-7d9c-4a8d-c5cc-23d268924fae"
      },
      "outputs": [
        {
          "output_type": "stream",
          "name": "stdout",
          "text": [
            "Mounted at /content/drive\n"
          ]
        }
      ],
      "source": [
        "from google.colab import drive\n",
        "drive.mount('/content/drive')"
      ]
    },
    {
      "cell_type": "code",
      "source": [
        "pip install numpy opencv-python scikit-image pillow"
      ],
      "metadata": {
        "colab": {
          "base_uri": "https://localhost:8080/"
        },
        "id": "WtWMe2BJkUUn",
        "outputId": "061b0186-3630-4169-af99-0cabce46c20a"
      },
      "execution_count": null,
      "outputs": [
        {
          "output_type": "stream",
          "name": "stdout",
          "text": [
            "Requirement already satisfied: numpy in /usr/local/lib/python3.10/dist-packages (1.25.2)\n",
            "Requirement already satisfied: opencv-python in /usr/local/lib/python3.10/dist-packages (4.8.0.76)\n",
            "Requirement already satisfied: scikit-image in /usr/local/lib/python3.10/dist-packages (0.19.3)\n",
            "Requirement already satisfied: pillow in /usr/local/lib/python3.10/dist-packages (9.4.0)\n",
            "Requirement already satisfied: scipy>=1.4.1 in /usr/local/lib/python3.10/dist-packages (from scikit-image) (1.11.4)\n",
            "Requirement already satisfied: networkx>=2.2 in /usr/local/lib/python3.10/dist-packages (from scikit-image) (3.3)\n",
            "Requirement already satisfied: imageio>=2.4.1 in /usr/local/lib/python3.10/dist-packages (from scikit-image) (2.31.6)\n",
            "Requirement already satisfied: tifffile>=2019.7.26 in /usr/local/lib/python3.10/dist-packages (from scikit-image) (2024.7.21)\n",
            "Requirement already satisfied: PyWavelets>=1.1.1 in /usr/local/lib/python3.10/dist-packages (from scikit-image) (1.6.0)\n",
            "Requirement already satisfied: packaging>=20.0 in /usr/local/lib/python3.10/dist-packages (from scikit-image) (24.1)\n"
          ]
        }
      ]
    },
    {
      "cell_type": "code",
      "source": [
        "import cv2\n",
        "import numpy as np\n",
        "import os\n",
        "from skimage.util import random_noise"
      ],
      "metadata": {
        "id": "2gAgtpsTG4td"
      },
      "execution_count": null,
      "outputs": []
    },
    {
      "cell_type": "code",
      "source": [
        "def apply_fast_fading(image):\n",
        "    noise_img = random_noise(image, mode='s&p', amount=0.1)\n",
        "    noise_img = np.array(255 * noise_img, dtype='uint8')\n",
        "    faded_img = cv2.GaussianBlur(noise_img, (5, 5), 0)\n",
        "    return faded_img"
      ],
      "metadata": {
        "id": "YoMX_Jz3G0-i"
      },
      "execution_count": null,
      "outputs": []
    },
    {
      "cell_type": "code",
      "source": [
        "def create_disk_kernel(radius):\n",
        "    size = 2 * radius + 1\n",
        "    kernel = np.zeros((size, size), dtype=np.float32)\n",
        "    center = radius\n",
        "    for y in range(size):\n",
        "        for x in range(size):\n",
        "            if np.sqrt((x - center) ** 2 + (y - center) ** 2) <= radius:\n",
        "                kernel[y, x] = 1\n",
        "    return kernel / np.sum(kernel)"
      ],
      "metadata": {
        "id": "1vDqJ_pjG1Pz"
      },
      "execution_count": null,
      "outputs": []
    },
    {
      "cell_type": "code",
      "source": [
        "def apply_blur(image, level=5):\n",
        "    if level < 0 or level > 10:\n",
        "        raise ValueError(\"Level should be between 0 and 10\")\n",
        "\n",
        "    kernel = create_disk_kernel(level)\n",
        "    blurred = cv2.filter2D(image, -1, kernel)\n",
        "    return blurred"
      ],
      "metadata": {
        "id": "8QIeA0xGG3TW"
      },
      "execution_count": null,
      "outputs": []
    },
    {
      "cell_type": "code",
      "source": [
        "def apply_jpeg_compression(image, quality=50):\n",
        "    temp_filename = 'img_aux.jpg'\n",
        "    output_filename = 'rest.png'\n",
        "\n",
        "    encode_param = [int(cv2.IMWRITE_JPEG_QUALITY), quality]\n",
        "    cv2.imwrite(temp_filename, image, encode_param)\n",
        "\n",
        "    result = cv2.imread(temp_filename)\n",
        "\n",
        "    cv2.imwrite(output_filename, result)\n",
        "\n",
        "    os.remove(temp_filename)\n",
        "    os.remove(output_filename)\n",
        "\n",
        "    return result"
      ],
      "metadata": {
        "id": "JyrTvfyYG9In"
      },
      "execution_count": null,
      "outputs": []
    },
    {
      "cell_type": "code",
      "source": [
        "def apply_white_gaussian_noise(image, level=0.1):\n",
        "    if level < 0 or level > 0.5:\n",
        "        raise ValueError(\"Level should be between 0 and 0.5\")\n",
        "\n",
        "    row, col, ch = image.shape\n",
        "    mean = 0\n",
        "    sigma = np.sqrt(level)\n",
        "    gauss = np.random.normal(mean, sigma, (row, col, ch))\n",
        "    noisy = image + gauss * 255  # Scale noise to the image's range\n",
        "    noisy = np.clip(noisy, 0, 255).astype(np.uint8)\n",
        "    return noisy"
      ],
      "metadata": {
        "id": "PDCAKNgxG_HY"
      },
      "execution_count": null,
      "outputs": []
    },
    {
      "cell_type": "code",
      "source": [
        "def load_and_split_image(image_path):\n",
        "    image = cv2.imread(image_path)\n",
        "    h, w, _ = image.shape\n",
        "    left_image = image[:, :w//2]\n",
        "    right_image = image[:, w//2:]\n",
        "    return left_image, right_image"
      ],
      "metadata": {
        "id": "uVcGLcp5HBJN"
      },
      "execution_count": null,
      "outputs": []
    },
    {
      "cell_type": "code",
      "source": [
        "def apply_distortions_and_save_images():\n",
        "    source_dir = '/content/drive/MyDrive/3DMX22/Images-J2K Noise/Sources'\n",
        "    output_base_dir = '/content/drive/MyDrive/3DMX22/Images-Distorted'\n",
        "\n",
        "    distortions = {\n",
        "        'fast_fading': apply_fast_fading,\n",
        "        'gaussian_blur': apply_gaussian_blur,\n",
        "        'jpeg': apply_jpeg_compression,\n",
        "        'white_gaussian_noise': apply_white_gaussian_noise,\n",
        "        'disk_blur': apply_blur\n",
        "    }\n",
        "\n",
        "    for distortion_name in distortions:\n",
        "        os.makedirs(os.path.join(output_base_dir, distortion_name), exist_ok=True)\n",
        "\n",
        "    for i in range(1, 21):\n",
        "        image_path = os.path.join(source_dir, f'{i:02d}.bmp')\n",
        "        left_image, right_image = load_and_split_image(image_path)\n",
        "\n",
        "        for distortion_name, distortion_func in distortions.items():\n",
        "            for level in range(1, 6):  # Levels 1 to 5\n",
        "                if distortion_name == 'gaussian_blur':\n",
        "                    left_distorted = distortion_func(left_image, sigma=level*0.5)\n",
        "                    right_distorted = distortion_func(right_image, sigma=level*0.5)\n",
        "                elif distortion_name == 'jpeg':\n",
        "                    left_distorted = distortion_func(left_image, quality=100 - level*10)\n",
        "                    right_distorted = distortion_func(right_image, quality=100 - level*10)\n",
        "                elif distortion_name == 'white_gaussian_noise':\n",
        "                    left_distorted = distortion_func(left_image, level=level*0.1)\n",
        "                    right_distorted = distortion_func(right_image, level=level*0.1)\n",
        "                elif distortion_name == 'disk_blur':\n",
        "                    left_distorted = distortion_func(left_image, level=level)\n",
        "                    right_distorted = distortion_func(right_image, level=level)\n",
        "                else:\n",
        "                    left_distorted = distortion_func(left_image)\n",
        "                    right_distorted = distortion_func(right_image)\n",
        "\n",
        "                # Combine left and right distorted images horizontally\n",
        "                combined_distorted = np.hstack((left_distorted, right_distorted))\n",
        "\n",
        "                # Save the distorted image\n",
        "                output_path = os.path.join(output_base_dir, distortion_name, f'{i:02d}_{level:02d}.bmp')\n",
        "                cv2.imwrite(output_path, combined_distorted)"
      ],
      "metadata": {
        "id": "XkP2Jeb_HEhl"
      },
      "execution_count": null,
      "outputs": []
    },
    {
      "cell_type": "code",
      "source": [
        "apply_distortions_and_save_images()"
      ],
      "metadata": {
        "id": "WouRDY7sHKE_"
      },
      "execution_count": null,
      "outputs": []
    },
    {
      "cell_type": "code",
      "source": [
        "pip install opencv-python-headless pandas scikit-image"
      ],
      "metadata": {
        "colab": {
          "base_uri": "https://localhost:8080/"
        },
        "id": "0JRRz1B_HIQw",
        "outputId": "ec0d8d41-4531-4e7b-c268-30952ac9d6f5"
      },
      "execution_count": null,
      "outputs": [
        {
          "output_type": "stream",
          "name": "stdout",
          "text": [
            "Requirement already satisfied: opencv-python-headless in /usr/local/lib/python3.10/dist-packages (4.10.0.84)\n",
            "Requirement already satisfied: pandas in /usr/local/lib/python3.10/dist-packages (2.0.3)\n",
            "Requirement already satisfied: scikit-image in /usr/local/lib/python3.10/dist-packages (0.23.2)\n",
            "Requirement already satisfied: numpy>=1.21.2 in /usr/local/lib/python3.10/dist-packages (from opencv-python-headless) (1.25.2)\n",
            "Requirement already satisfied: python-dateutil>=2.8.2 in /usr/local/lib/python3.10/dist-packages (from pandas) (2.8.2)\n",
            "Requirement already satisfied: pytz>=2020.1 in /usr/local/lib/python3.10/dist-packages (from pandas) (2024.1)\n",
            "Requirement already satisfied: tzdata>=2022.1 in /usr/local/lib/python3.10/dist-packages (from pandas) (2024.1)\n",
            "Requirement already satisfied: scipy>=1.9 in /usr/local/lib/python3.10/dist-packages (from scikit-image) (1.13.1)\n",
            "Requirement already satisfied: networkx>=2.8 in /usr/local/lib/python3.10/dist-packages (from scikit-image) (3.3)\n",
            "Requirement already satisfied: pillow>=9.1 in /usr/local/lib/python3.10/dist-packages (from scikit-image) (9.4.0)\n",
            "Requirement already satisfied: imageio>=2.33 in /usr/local/lib/python3.10/dist-packages (from scikit-image) (2.34.2)\n",
            "Requirement already satisfied: tifffile>=2022.8.12 in /usr/local/lib/python3.10/dist-packages (from scikit-image) (2024.7.21)\n",
            "Requirement already satisfied: packaging>=21 in /usr/local/lib/python3.10/dist-packages (from scikit-image) (24.1)\n",
            "Requirement already satisfied: lazy-loader>=0.4 in /usr/local/lib/python3.10/dist-packages (from scikit-image) (0.4)\n",
            "Requirement already satisfied: six>=1.5 in /usr/local/lib/python3.10/dist-packages (from python-dateutil>=2.8.2->pandas) (1.16.0)\n"
          ]
        }
      ]
    },
    {
      "cell_type": "code",
      "source": [
        "import os\n",
        "import cv2\n",
        "import pandas as pd\n",
        "from skimage.metrics import structural_similarity as ssim"
      ],
      "metadata": {
        "id": "g-d9rkJpHIwr"
      },
      "execution_count": null,
      "outputs": []
    },
    {
      "cell_type": "code",
      "source": [
        "import os\n",
        "import cv2\n",
        "import pandas as pd\n",
        "from skimage.metrics import structural_similarity as ssim\n",
        "\n",
        "def load_image_pairs(image_path):\n",
        "    \"\"\"Load and split image pairs into left and right views.\"\"\"\n",
        "    image = cv2.imread(image_path)\n",
        "    height, width = image.shape[:2]\n",
        "    left = image[:, :width//2]\n",
        "    right = image[:, width//2:]\n",
        "    return left, right\n",
        "\n",
        "def compute_ssim(image_left, image_right, reference_left, reference_right):\n",
        "    # Define a small win_size for small images\n",
        "    win_size = 5  # Choose a suitable odd number\n",
        "\n",
        "    # Compute SSIM for left and right views with specified win_size\n",
        "    ssim_left, _ = ssim(image_left, reference_left, win_size=win_size, full=True, channel_axis=-1)\n",
        "    ssim_right, _ = ssim(image_right, reference_right, win_size=win_size, full=True, channel_axis=-1)\n",
        "\n",
        "    # Average SSIM score\n",
        "    score = (ssim_left + ssim_right) / 2.0\n",
        "    return score\n",
        "\n",
        "\n",
        "def process_images(reference_path, distortions_paths):\n",
        "    \"\"\"Compute SSIM scores for all distorted images relative to reference images.\"\"\"\n",
        "    results = []\n",
        "\n",
        "    # Load reference images\n",
        "    reference_images = sorted([f for f in os.listdir(reference_path) if f.endswith('.bmp')])\n",
        "\n",
        "    for ref_image_name in reference_images:\n",
        "        ref_image_path = os.path.join(reference_path, ref_image_name)\n",
        "        ref_left, ref_right = load_image_pairs(ref_image_path)\n",
        "\n",
        "        for distortion_type, distortion_path in distortions_paths.items():\n",
        "            distortion_images = sorted([f for f in os.listdir(distortion_path) if f.endswith('.bmp')])\n",
        "\n",
        "            for dist_image_name in distortion_images:\n",
        "                if dist_image_name.startswith(ref_image_name.split('.')[0]):\n",
        "                    dist_image_path = os.path.join(distortion_path, dist_image_name)\n",
        "                    dist_left, dist_right = load_image_pairs(dist_image_path)\n",
        "                    score = compute_ssim(dist_left, dist_right, ref_left, ref_right)\n",
        "\n",
        "                    image_name = os.path.splitext(dist_image_name)[0]  # Remove extension\n",
        "                    results.append([distortion_type, image_name, score])\n",
        "\n",
        "    return results\n",
        "\n",
        "# Define paths\n",
        "reference_path = '/content/drive/MyDrive/3DMX22/Images-J2K Noise/Sources/'\n",
        "distortions_paths = {\n",
        "    'disk_blur': '/content/drive/MyDrive/3DMX22/Images-Distorted/disk_blur/',\n",
        "    'fast_fading': '/content/drive/MyDrive/3DMX22/Images-Distorted/fast_fading/',\n",
        "    'gaussian_blur': '/content/drive/MyDrive/3DMX22/Images-Distorted/gaussian_blur/',\n",
        "    'jpeg': '/content/drive/MyDrive/3DMX22/Images-Distorted/jpeg/',\n",
        "    'jpeg2k': '/content/drive/MyDrive/3DMX22/Images-Distorted/jpeg2k/',\n",
        "    'white_gaussian_noise': '/content/drive/MyDrive/3DMX22/Images-Distorted/white_gaussian_noise/'\n",
        "}\n",
        "\n",
        "# Process and save results\n",
        "results = process_images(reference_path, distortions_paths)\n",
        "df = pd.DataFrame(results, columns=['distortion type', 'image name', 'ssim score'])\n",
        "df.to_csv('/content/ssim_scores.csv', index=False)\n"
      ],
      "metadata": {
        "id": "oUgk6AzJKWJ4"
      },
      "execution_count": null,
      "outputs": []
    }
  ]
}